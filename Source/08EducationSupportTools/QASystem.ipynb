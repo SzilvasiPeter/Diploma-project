{
 "cells": [
  {
   "cell_type": "markdown",
   "metadata": {},
   "source": [
    "Query formulation"
   ]
  },
  {
   "cell_type": "code",
   "execution_count": 1,
   "metadata": {},
   "outputs": [],
   "source": [
    "#!pip install -U pip setuptools wheel\n",
    "#!pip install -U spacy\n",
    "#!python -m spacy download en_core_web_sm\n",
    "import nltk\n",
    "import numpy as np\n",
    "#nltk.download()"
   ]
  },
  {
   "cell_type": "code",
   "execution_count": 2,
   "metadata": {},
   "outputs": [
    {
     "name": "stdout",
     "output_type": "stream",
     "text": [
      "[('What', 'WP'), ('are', 'VBP'), ('the', 'DT'), ('different', 'JJ'), ('OS', 'NNP'), ('for', 'IN'), ('personal', 'JJ'), ('computers', 'NNS'), ('?', '.')]\n"
     ]
    }
   ],
   "source": [
    "tokens = nltk.word_tokenize(\"What are the different OS for personal computers?\")\n",
    "print(nltk.pos_tag(tokens))\n",
    "tagged = nltk.pos_tag(tokens)"
   ]
  },
  {
   "cell_type": "code",
   "execution_count": 3,
   "metadata": {},
   "outputs": [
    {
     "data": {
      "text/plain": [
       "['OS', 'computers']"
      ]
     },
     "execution_count": 3,
     "metadata": {},
     "output_type": "execute_result"
    }
   ],
   "source": [
    "query_words_tuple = list(filter(lambda x: 'NN' in x[1], tagged))\n",
    "query_words = [key for key, _ in query_words_tuple]\n",
    "query_words"
   ]
  },
  {
   "cell_type": "markdown",
   "metadata": {},
   "source": [
    "Document retrieval"
   ]
  },
  {
   "cell_type": "code",
   "execution_count": 4,
   "metadata": {},
   "outputs": [
    {
     "name": "stdout",
     "output_type": "stream",
     "text": [
      ".\\OS\n"
     ]
    }
   ],
   "source": [
    "import os\n",
    "basepath = '.'\n",
    "for fname in os.listdir(basepath):\n",
    "    path = os.path.join(basepath, fname)\n",
    "    if os.path.isdir(path):\n",
    "        for query_word in query_words:\n",
    "            if fname == query_word:\n",
    "                document = path\n",
    "                print(path)"
   ]
  },
  {
   "cell_type": "markdown",
   "metadata": {},
   "source": [
    "Passage retrieval"
   ]
  },
  {
   "cell_type": "code",
   "execution_count": 5,
   "metadata": {
    "scrolled": true
   },
   "outputs": [
    {
     "name": "stdout",
     "output_type": "stream",
     "text": [
      "OS_extended.txt\n",
      "OS_memory.txt\n",
      "OS_program_execution.txt\n"
     ]
    },
    {
     "data": {
      "text/plain": [
       "[\"An operating system is the most important software that runs on a computer. It manages the computer's memory and processes, as well as all of its software and hardware. It also allows you to communicate with the computer without knowing how to speak the computer's language. Without an operating system, a computer is useless.\\nYour computer's operating system (OS) manages all of the software and hardware on the computer. Most of the time, there are several different computer programs running at the same time, and they all need to access your computer's central processing unit (CPU), memory, and storage. The operating system coordinates all of this to make sure each program gets what it needs.\\nOperating systems usually come pre-loaded on any computer you buy. Most people use the operating system that comes with their computer, but it's possible to upgrade or even change operating systems. The three most common operating systems for personal computers are Microsoft Windows, macOS, and Linux.\\n\\nModern operating systems use a graphical user interface, or GUI (pronounced gooey). A GUI lets you use your mouse to click icons, buttons, and menus, and everything is clearly displayed on the screen using a combination of graphics and text.\\nEach operating system's GUI has a different look and feel, so if you switch to a different operating system it may seem unfamiliar at first. However, modern operating systems are designed to be easy to use, and most of the basic principles are the same.\",\n",
       " \"Among other things, a multiprogramming operating system kernel must be responsible for managing all system memory which is currently in use by programs.\\nThis ensures that a program does not interfere with memory already in use by another program.\\nSince programs time share, each program must have independent access to memory.\\n\\nCooperative memory management, used by many early operating systems, assumes that all programs make voluntary use of the kernel's memory manager, and do not exceed their allocated memory.\\nThis system of memory management is almost never seen any more, since programs often contain bugs which can cause them to exceed their allocated memory.\\nIf a program fails, it may cause memory used by one or more other programs to be affected or overwritten.\\nMalicious programs or viruses may purposefully alter another program's memory, or may affect the operation of the operating system itself.\\nWith cooperative memory management, it takes only one misbehaved program to crash the system.\",\n",
       " 'The operating system provides an interface between an application program and the computer hardware, so that an application program can interact with the hardware only by obeying rules and procedures programmed into the operating system.\\nThe operating system is also a set of services which simplify development and execution of application programs.\\nExecuting an application program involves the creation of a process by the operating system kernel which assigns memory space and other resources, establishes a priority for the process in multi-tasking systems, loads program binary code into memory, and initiates execution of the application program which then interacts with the user and with hardware devices.']"
      ]
     },
     "execution_count": 5,
     "metadata": {},
     "output_type": "execute_result"
    }
   ],
   "source": [
    "#!pip install rank-bm25\n",
    "from rank_bm25 import BM25Okapi\n",
    "\n",
    "corpus = []\n",
    "for filename in os.listdir(document):\n",
    "    print(filename)\n",
    "    with open(os.path.join(document, filename), 'r') as file:\n",
    "        corpus.append(file.read())\n",
    "\n",
    "corpus"
   ]
  },
  {
   "cell_type": "code",
   "execution_count": 6,
   "metadata": {},
   "outputs": [
    {
     "name": "stdout",
     "output_type": "stream",
     "text": [
      "[0.8355942 0.        0.       ]\n",
      "0\n",
      "An operating system is the most important software that runs on a computer. It manages the computer's memory and processes, as well as all of its software and hardware. It also allows you to communicate with the computer without knowing how to speak the computer's language. Without an operating system, a computer is useless.\n",
      "Your computer's operating system (OS) manages all of the software and hardware on the computer. Most of the time, there are several different computer programs running at the same time, and they all need to access your computer's central processing unit (CPU), memory, and storage. The operating system coordinates all of this to make sure each program gets what it needs.\n",
      "Operating systems usually come pre-loaded on any computer you buy. Most people use the operating system that comes with their computer, but it's possible to upgrade or even change operating systems. The three most common operating systems for personal computers are Microsoft Windows, macOS, and Linux.\n",
      "\n",
      "Modern operating systems use a graphical user interface, or GUI (pronounced gooey). A GUI lets you use your mouse to click icons, buttons, and menus, and everything is clearly displayed on the screen using a combination of graphics and text.\n",
      "Each operating system's GUI has a different look and feel, so if you switch to a different operating system it may seem unfamiliar at first. However, modern operating systems are designed to be easy to use, and most of the basic principles are the same.\n"
     ]
    }
   ],
   "source": [
    "tokenized_corpus = [nltk.word_tokenize(passage) for passage in corpus]\n",
    "bm25 = BM25Okapi(tokenized_corpus)\n",
    "\n",
    "doc_scores = bm25.get_scores(query_words)\n",
    "max_score_index = np.argmax(doc_scores)\n",
    "print(doc_scores)\n",
    "print(max_score_index)\n",
    "print(corpus[max_score_index])"
   ]
  },
  {
   "cell_type": "markdown",
   "metadata": {},
   "source": [
    "Answer Retrieving"
   ]
  },
  {
   "cell_type": "code",
   "execution_count": 7,
   "metadata": {},
   "outputs": [],
   "source": [
    "from transformers import pipeline"
   ]
  },
  {
   "cell_type": "code",
   "execution_count": 8,
   "metadata": {},
   "outputs": [],
   "source": [
    "nlp = pipeline(\"question-answering\")"
   ]
  },
  {
   "cell_type": "code",
   "execution_count": 9,
   "metadata": {},
   "outputs": [
    {
     "name": "stdout",
     "output_type": "stream",
     "text": [
      "An operating system is the most important software that runs on a computer. It manages the computer's memory and processes, as well as all of its software and hardware. It also allows you to communicate with the computer without knowing how to speak the computer's language. Without an operating system, a computer is useless.\n",
      "Your computer's operating system (OS) manages all of the software and hardware on the computer. Most of the time, there are several different computer programs running at the same time, and they all need to access your computer's central processing unit (CPU), memory, and storage. The operating system coordinates all of this to make sure each program gets what it needs.\n",
      "Operating systems usually come pre-loaded on any computer you buy. Most people use the operating system that comes with their computer, but it's possible to upgrade or even change operating systems. The three most common operating systems for personal computers are Microsoft Windows, macOS, and Linux.\n",
      "\n",
      "Modern operating systems use a graphical user interface, or GUI (pronounced gooey). A GUI lets you use your mouse to click icons, buttons, and menus, and everything is clearly displayed on the screen using a combination of graphics and text.\n",
      "Each operating system's GUI has a different look and feel, so if you switch to a different operating system it may seem unfamiliar at first. However, modern operating systems are designed to be easy to use, and most of the basic principles are the same.\n",
      "{'score': 0.9696899652481079, 'start': 966, 'end': 1001, 'answer': 'Microsoft Windows, macOS, and Linux'}\n",
      "{'score': 0.45402342081069946, 'start': 642, 'end': 698, 'answer': 'all of this to make sure each program gets what it needs'}\n",
      "{'score': 0.04071327671408653, 'start': 557, 'end': 607, 'answer': 'central processing unit (CPU), memory, and storage'}\n"
     ]
    }
   ],
   "source": [
    "OS_original_text = ''\n",
    "with open(\"OS_extended.txt\") as file:\n",
    "    OS_original_text = file.read()\n",
    "print(OS_original_text)\n",
    "\n",
    "print(nlp(question=\"What are the different OS for personal computers?\", context=corpus[max_score_index]))\n",
    "print(nlp(question=\"What does operating system coordinates?\", context=corpus[max_score_index]))\n",
    "print(nlp(question=\"What is necessary for a programs to run?\",\n",
    "          context=corpus[max_score_index]))"
   ]
  },
  {
   "cell_type": "markdown",
   "metadata": {},
   "source": [
    "Using Model and tokenizer"
   ]
  },
  {
   "cell_type": "code",
   "execution_count": 10,
   "metadata": {},
   "outputs": [],
   "source": [
    "from transformers import AutoTokenizer, AutoModelForQuestionAnswering\n",
    "import torch"
   ]
  },
  {
   "cell_type": "code",
   "execution_count": null,
   "metadata": {},
   "outputs": [],
   "source": [
    "#!pip install transformers sentencepiece"
   ]
  },
  {
   "cell_type": "code",
   "execution_count": 11,
   "metadata": {},
   "outputs": [],
   "source": [
    "tokenizer = AutoTokenizer.from_pretrained(\"bert-large-uncased-whole-word-masking-finetuned-squad\")\n",
    "model = AutoModelForQuestionAnswering.from_pretrained(\"bert-large-uncased-whole-word-masking-finetuned-squad\", return_dict=False)"
   ]
  },
  {
   "cell_type": "code",
   "execution_count": 12,
   "metadata": {},
   "outputs": [
    {
     "name": "stdout",
     "output_type": "stream",
     "text": [
      "[101, 2054, 2024, 1996, 2367, 9808, 2005, 3167, 7588, 1029, 102, 2019, 4082, 2291, 2003, 1996, 2087, 2590, 4007, 2008, 3216, 2006, 1037, 3274, 1012, 2009, 9020, 1996, 3274, 1005, 1055, 3638, 1998, 6194, 1010, 2004, 2092, 2004, 2035, 1997, 2049, 4007, 1998, 8051, 1012, 2009, 2036, 4473, 2017, 2000, 10639, 2007, 1996, 3274, 2302, 4209, 2129, 2000, 3713, 1996, 3274, 1005, 1055, 2653, 1012, 2302, 2019, 4082, 2291, 1010, 1037, 3274, 2003, 11809, 1012, 2115, 3274, 1005, 1055, 4082, 2291, 1006, 9808, 1007, 9020, 2035, 1997, 1996, 4007, 1998, 8051, 2006, 1996, 3274, 1012, 2087, 1997, 1996, 2051, 1010, 2045, 2024, 2195, 2367, 3274, 3454, 2770, 2012, 1996, 2168, 2051, 1010, 1998, 2027, 2035, 2342, 2000, 3229, 2115, 3274, 1005, 1055, 2430, 6364, 3131, 1006, 17368, 1007, 1010, 3638, 1010, 1998, 5527, 1012, 1996, 4082, 2291, 12093, 2035, 1997, 2023, 2000, 2191, 2469, 2169, 2565, 4152, 2054, 2009, 3791, 1012, 4082, 3001, 2788, 2272, 3653, 1011, 8209, 2006, 2151, 3274, 2017, 4965, 1012, 2087, 2111, 2224, 1996, 4082, 2291, 2008, 3310, 2007, 2037, 3274, 1010, 2021, 2009, 1005, 1055, 2825, 2000, 12200, 2030, 2130, 2689, 4082, 3001, 1012, 1996, 2093, 2087, 2691, 4082, 3001, 2005, 3167, 7588, 2024, 7513, 3645, 1010, 6097, 2891, 1010, 1998, 11603, 1012, 2715, 4082, 3001, 2224, 1037, 20477, 5310, 8278, 1010, 2030, 26458, 1006, 8793, 27571, 3240, 1007, 1012, 1037, 26458, 11082, 2017, 2224, 2115, 8000, 2000, 11562, 18407, 1010, 11287, 1010, 1998, 12183, 2015, 1010, 1998, 2673, 2003, 4415, 6913, 2006, 1996, 3898, 2478, 1037, 5257, 1997, 8389, 1998, 3793, 1012, 2169, 4082, 2291, 1005, 1055, 26458, 2038, 1037, 2367, 2298, 1998, 2514, 1010, 2061, 2065, 2017, 6942, 2000, 1037, 2367, 4082, 2291, 2009, 2089, 4025, 16261, 2012, 2034, 1012, 2174, 1010, 2715, 4082, 3001, 2024, 2881, 2000, 2022, 3733, 2000, 2224, 1010, 1998, 2087, 1997, 1996, 3937, 6481, 2024, 1996, 2168, 1012, 102]\n",
      "Question: What are the different OS for personal computers?\n",
      "Answer: microsoft windows, macos, and linux\n",
      "\n",
      "[101, 2054, 2515, 4082, 2291, 12093, 1029, 102, 2019, 4082, 2291, 2003, 1996, 2087, 2590, 4007, 2008, 3216, 2006, 1037, 3274, 1012, 2009, 9020, 1996, 3274, 1005, 1055, 3638, 1998, 6194, 1010, 2004, 2092, 2004, 2035, 1997, 2049, 4007, 1998, 8051, 1012, 2009, 2036, 4473, 2017, 2000, 10639, 2007, 1996, 3274, 2302, 4209, 2129, 2000, 3713, 1996, 3274, 1005, 1055, 2653, 1012, 2302, 2019, 4082, 2291, 1010, 1037, 3274, 2003, 11809, 1012, 2115, 3274, 1005, 1055, 4082, 2291, 1006, 9808, 1007, 9020, 2035, 1997, 1996, 4007, 1998, 8051, 2006, 1996, 3274, 1012, 2087, 1997, 1996, 2051, 1010, 2045, 2024, 2195, 2367, 3274, 3454, 2770, 2012, 1996, 2168, 2051, 1010, 1998, 2027, 2035, 2342, 2000, 3229, 2115, 3274, 1005, 1055, 2430, 6364, 3131, 1006, 17368, 1007, 1010, 3638, 1010, 1998, 5527, 1012, 1996, 4082, 2291, 12093, 2035, 1997, 2023, 2000, 2191, 2469, 2169, 2565, 4152, 2054, 2009, 3791, 1012, 4082, 3001, 2788, 2272, 3653, 1011, 8209, 2006, 2151, 3274, 2017, 4965, 1012, 2087, 2111, 2224, 1996, 4082, 2291, 2008, 3310, 2007, 2037, 3274, 1010, 2021, 2009, 1005, 1055, 2825, 2000, 12200, 2030, 2130, 2689, 4082, 3001, 1012, 1996, 2093, 2087, 2691, 4082, 3001, 2005, 3167, 7588, 2024, 7513, 3645, 1010, 6097, 2891, 1010, 1998, 11603, 1012, 2715, 4082, 3001, 2224, 1037, 20477, 5310, 8278, 1010, 2030, 26458, 1006, 8793, 27571, 3240, 1007, 1012, 1037, 26458, 11082, 2017, 2224, 2115, 8000, 2000, 11562, 18407, 1010, 11287, 1010, 1998, 12183, 2015, 1010, 1998, 2673, 2003, 4415, 6913, 2006, 1996, 3898, 2478, 1037, 5257, 1997, 8389, 1998, 3793, 1012, 2169, 4082, 2291, 1005, 1055, 26458, 2038, 1037, 2367, 2298, 1998, 2514, 1010, 2061, 2065, 2017, 6942, 2000, 1037, 2367, 4082, 2291, 2009, 2089, 4025, 16261, 2012, 2034, 1012, 2174, 1010, 2715, 4082, 3001, 2024, 2881, 2000, 2022, 3733, 2000, 2224, 1010, 1998, 2087, 1997, 1996, 3937, 6481, 2024, 1996, 2168, 1012, 102]\n",
      "Question: What does operating system coordinates?\n",
      "Answer: to make sure each program gets what it needs\n",
      "\n",
      "[101, 2054, 2003, 4072, 2005, 1037, 3454, 2000, 2448, 1029, 102, 2019, 4082, 2291, 2003, 1996, 2087, 2590, 4007, 2008, 3216, 2006, 1037, 3274, 1012, 2009, 9020, 1996, 3274, 1005, 1055, 3638, 1998, 6194, 1010, 2004, 2092, 2004, 2035, 1997, 2049, 4007, 1998, 8051, 1012, 2009, 2036, 4473, 2017, 2000, 10639, 2007, 1996, 3274, 2302, 4209, 2129, 2000, 3713, 1996, 3274, 1005, 1055, 2653, 1012, 2302, 2019, 4082, 2291, 1010, 1037, 3274, 2003, 11809, 1012, 2115, 3274, 1005, 1055, 4082, 2291, 1006, 9808, 1007, 9020, 2035, 1997, 1996, 4007, 1998, 8051, 2006, 1996, 3274, 1012, 2087, 1997, 1996, 2051, 1010, 2045, 2024, 2195, 2367, 3274, 3454, 2770, 2012, 1996, 2168, 2051, 1010, 1998, 2027, 2035, 2342, 2000, 3229, 2115, 3274, 1005, 1055, 2430, 6364, 3131, 1006, 17368, 1007, 1010, 3638, 1010, 1998, 5527, 1012, 1996, 4082, 2291, 12093, 2035, 1997, 2023, 2000, 2191, 2469, 2169, 2565, 4152, 2054, 2009, 3791, 1012, 4082, 3001, 2788, 2272, 3653, 1011, 8209, 2006, 2151, 3274, 2017, 4965, 1012, 2087, 2111, 2224, 1996, 4082, 2291, 2008, 3310, 2007, 2037, 3274, 1010, 2021, 2009, 1005, 1055, 2825, 2000, 12200, 2030, 2130, 2689, 4082, 3001, 1012, 1996, 2093, 2087, 2691, 4082, 3001, 2005, 3167, 7588, 2024, 7513, 3645, 1010, 6097, 2891, 1010, 1998, 11603, 1012, 2715, 4082, 3001, 2224, 1037, 20477, 5310, 8278, 1010, 2030, 26458, 1006, 8793, 27571, 3240, 1007, 1012, 1037, 26458, 11082, 2017, 2224, 2115, 8000, 2000, 11562, 18407, 1010, 11287, 1010, 1998, 12183, 2015, 1010, 1998, 2673, 2003, 4415, 6913, 2006, 1996, 3898, 2478, 1037, 5257, 1997, 8389, 1998, 3793, 1012, 2169, 4082, 2291, 1005, 1055, 26458, 2038, 1037, 2367, 2298, 1998, 2514, 1010, 2061, 2065, 2017, 6942, 2000, 1037, 2367, 4082, 2291, 2009, 2089, 4025, 16261, 2012, 2034, 1012, 2174, 1010, 2715, 4082, 3001, 2024, 2881, 2000, 2022, 3733, 2000, 2224, 1010, 1998, 2087, 1997, 1996, 3937, 6481, 2024, 1996, 2168, 1012, 102]\n",
      "Question: What is necessary for a programs to run?\n",
      "Answer: access your computer's central processing unit ( cpu ), memory, and storage\n",
      "\n"
     ]
    }
   ],
   "source": [
    "questions = [\n",
    "    \"What are the different OS for personal computers?\",\n",
    "    \"What does operating system coordinates?\",\n",
    "    \"What is necessary for a programs to run?\",\n",
    "]\n",
    "\n",
    "for question in questions:\n",
    "    inputs = tokenizer.encode_plus(question, OS_original_text, add_special_tokens=True, return_tensors=\"pt\")\n",
    "    input_ids = inputs[\"input_ids\"].tolist()[0]\n",
    "    print(input_ids)\n",
    "\n",
    "    text_tokens = tokenizer.convert_ids_to_tokens(input_ids)\n",
    "    answer_start_scores, answer_end_scores = model(**inputs)\n",
    "\n",
    "    answer_start = torch.argmax(\n",
    "        answer_start_scores\n",
    "    )  # Get the most likely beginning of answer with the argmax of the score\n",
    "    answer_end = torch.argmax(answer_end_scores) + 1  # Get the most likely end of answer with the argmax of the score\n",
    "\n",
    "    answer = tokenizer.convert_tokens_to_string(tokenizer.convert_ids_to_tokens(input_ids[answer_start:answer_end]))\n",
    "\n",
    "    print(f\"Question: {question}\")\n",
    "    print(f\"Answer: {answer}\\n\")"
   ]
  },
  {
   "cell_type": "code",
   "execution_count": null,
   "metadata": {},
   "outputs": [],
   "source": []
  }
 ],
 "metadata": {
  "kernelspec": {
   "display_name": "Python 3",
   "language": "python",
   "name": "python3"
  },
  "language_info": {
   "codemirror_mode": {
    "name": "ipython",
    "version": 3
   },
   "file_extension": ".py",
   "mimetype": "text/x-python",
   "name": "python",
   "nbconvert_exporter": "python",
   "pygments_lexer": "ipython3",
   "version": "3.6.5"
  }
 },
 "nbformat": 4,
 "nbformat_minor": 2
}
