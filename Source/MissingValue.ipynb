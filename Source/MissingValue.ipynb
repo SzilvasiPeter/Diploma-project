{
 "cells": [
  {
   "cell_type": "code",
   "execution_count": 1,
   "metadata": {},
   "outputs": [],
   "source": [
    "import sklearn\n",
    "\n",
    "import pandas as pd\n",
    "import numpy as np"
   ]
  },
  {
   "cell_type": "code",
   "execution_count": 2,
   "metadata": {},
   "outputs": [
    {
     "name": "stdout",
     "output_type": "stream",
     "text": [
      "0.23.2\n",
      "1.18.5\n",
      "0.23.0\n"
     ]
    }
   ],
   "source": [
    "print(sklearn.__version__)\n",
    "print(np.__version__)\n",
    "print(pd.__version__)"
   ]
  },
  {
   "cell_type": "code",
   "execution_count": 3,
   "metadata": {},
   "outputs": [
    {
     "data": {
      "text/html": [
       "<div>\n",
       "<style scoped>\n",
       "    .dataframe tbody tr th:only-of-type {\n",
       "        vertical-align: middle;\n",
       "    }\n",
       "\n",
       "    .dataframe tbody tr th {\n",
       "        vertical-align: top;\n",
       "    }\n",
       "\n",
       "    .dataframe thead th {\n",
       "        text-align: right;\n",
       "    }\n",
       "</style>\n",
       "<table border=\"1\" class=\"dataframe\">\n",
       "  <thead>\n",
       "    <tr style=\"text-align: right;\">\n",
       "      <th></th>\n",
       "      <th>DBN</th>\n",
       "      <th>School Name</th>\n",
       "      <th>Total Parent \n",
       "Response Rate %</th>\n",
       "      <th>Total Teacher Response Rate %</th>\n",
       "      <th>Total Student Response Rate %</th>\n",
       "      <th>Collaborative Teachers Score</th>\n",
       "      <th>Effective School Leadership Score</th>\n",
       "      <th>Rigorous Instruction Score</th>\n",
       "      <th>Supportive Environment Score</th>\n",
       "      <th>Strong Family-Community Ties Score</th>\n",
       "      <th>Trust Score</th>\n",
       "    </tr>\n",
       "  </thead>\n",
       "  <tbody>\n",
       "    <tr>\n",
       "      <th>0</th>\n",
       "      <td>01M015</td>\n",
       "      <td>P.S. 015 ROBERTO CLEMENTE</td>\n",
       "      <td>91</td>\n",
       "      <td>100</td>\n",
       "      <td>NaN</td>\n",
       "      <td>4.10</td>\n",
       "      <td>4.19</td>\n",
       "      <td>4.02</td>\n",
       "      <td>NaN</td>\n",
       "      <td>4.18</td>\n",
       "      <td>3.96</td>\n",
       "    </tr>\n",
       "    <tr>\n",
       "      <th>1</th>\n",
       "      <td>01M019</td>\n",
       "      <td>P.S. 019 ASHER LEVY</td>\n",
       "      <td>100</td>\n",
       "      <td>93</td>\n",
       "      <td>NaN</td>\n",
       "      <td>4.53</td>\n",
       "      <td>4.51</td>\n",
       "      <td>4.80</td>\n",
       "      <td>NaN</td>\n",
       "      <td>4.66</td>\n",
       "      <td>3.76</td>\n",
       "    </tr>\n",
       "    <tr>\n",
       "      <th>2</th>\n",
       "      <td>01M020</td>\n",
       "      <td>P.S. 020 ANNA SILVER</td>\n",
       "      <td>58</td>\n",
       "      <td>90</td>\n",
       "      <td>NaN</td>\n",
       "      <td>2.71</td>\n",
       "      <td>2.98</td>\n",
       "      <td>1.92</td>\n",
       "      <td>NaN</td>\n",
       "      <td>3.84</td>\n",
       "      <td>3.14</td>\n",
       "    </tr>\n",
       "    <tr>\n",
       "      <th>3</th>\n",
       "      <td>01M034</td>\n",
       "      <td>P.S. 034 FRANKLIN D. ROOSEVELT</td>\n",
       "      <td>29</td>\n",
       "      <td>100</td>\n",
       "      <td>95.0</td>\n",
       "      <td>2.69</td>\n",
       "      <td>2.59</td>\n",
       "      <td>2.14</td>\n",
       "      <td>NaN</td>\n",
       "      <td>3.67</td>\n",
       "      <td>2.38</td>\n",
       "    </tr>\n",
       "    <tr>\n",
       "      <th>4</th>\n",
       "      <td>01M063</td>\n",
       "      <td>THE STAR ACADEMY - P.S.63</td>\n",
       "      <td>80</td>\n",
       "      <td>100</td>\n",
       "      <td>NaN</td>\n",
       "      <td>NaN</td>\n",
       "      <td>NaN</td>\n",
       "      <td>NaN</td>\n",
       "      <td>NaN</td>\n",
       "      <td>NaN</td>\n",
       "      <td>3.77</td>\n",
       "    </tr>\n",
       "  </tbody>\n",
       "</table>\n",
       "</div>"
      ],
      "text/plain": [
       "      DBN                     School Name  Total Parent \\nResponse Rate %  \\\n",
       "0  01M015       P.S. 015 ROBERTO CLEMENTE                              91   \n",
       "1  01M019             P.S. 019 ASHER LEVY                             100   \n",
       "2  01M020            P.S. 020 ANNA SILVER                              58   \n",
       "3  01M034  P.S. 034 FRANKLIN D. ROOSEVELT                              29   \n",
       "4  01M063       THE STAR ACADEMY - P.S.63                              80   \n",
       "\n",
       "   Total Teacher Response Rate %  Total Student Response Rate %  \\\n",
       "0                            100                            NaN   \n",
       "1                             93                            NaN   \n",
       "2                             90                            NaN   \n",
       "3                            100                           95.0   \n",
       "4                            100                            NaN   \n",
       "\n",
       "   Collaborative Teachers Score  Effective School Leadership Score  \\\n",
       "0                          4.10                               4.19   \n",
       "1                          4.53                               4.51   \n",
       "2                          2.71                               2.98   \n",
       "3                          2.69                               2.59   \n",
       "4                           NaN                                NaN   \n",
       "\n",
       "   Rigorous Instruction Score  Supportive Environment Score  \\\n",
       "0                        4.02                           NaN   \n",
       "1                        4.80                           NaN   \n",
       "2                        1.92                           NaN   \n",
       "3                        2.14                           NaN   \n",
       "4                         NaN                           NaN   \n",
       "\n",
       "   Strong Family-Community Ties Score  Trust Score  \n",
       "0                                4.18         3.96  \n",
       "1                                4.66         3.76  \n",
       "2                                3.84         3.14  \n",
       "3                                3.67         2.38  \n",
       "4                                 NaN         3.77  "
      ]
     },
     "execution_count": 3,
     "metadata": {},
     "output_type": "execute_result"
    }
   ],
   "source": [
    "student_df = pd.read_csv('..\\\\datasets\\\\2019_PublicDataFile_Students.csv')\n",
    "student_df.head(5)"
   ]
  },
  {
   "cell_type": "code",
   "execution_count": 4,
   "metadata": {},
   "outputs": [
    {
     "data": {
      "text/plain": [
       "(1829, 11)"
      ]
     },
     "execution_count": 4,
     "metadata": {},
     "output_type": "execute_result"
    }
   ],
   "source": [
    "student_df.shape"
   ]
  },
  {
   "cell_type": "code",
   "execution_count": 5,
   "metadata": {},
   "outputs": [
    {
     "data": {
      "text/plain": [
       "DBN                                      0\n",
       "School Name                              0\n",
       "Total Parent \\nResponse Rate %           0\n",
       "Total Teacher Response Rate %            0\n",
       "Total Student Response Rate %          720\n",
       "Collaborative Teachers Score           204\n",
       "Effective School Leadership Score      204\n",
       "Rigorous Instruction Score             204\n",
       "Supportive Environment Score          1829\n",
       "Strong Family-Community Ties Score     219\n",
       "Trust Score                             72\n",
       "dtype: int64"
      ]
     },
     "execution_count": 5,
     "metadata": {},
     "output_type": "execute_result"
    }
   ],
   "source": [
    "student_df.isna().sum()"
   ]
  },
  {
   "cell_type": "code",
   "execution_count": 6,
   "metadata": {},
   "outputs": [],
   "source": [
    "student_df = student_df.dropna(subset=['Trust Score'])"
   ]
  },
  {
   "cell_type": "code",
   "execution_count": 7,
   "metadata": {},
   "outputs": [
    {
     "data": {
      "text/plain": [
       "DBN                                     0\n",
       "School Name                             0\n",
       "Total Parent \\nResponse Rate %          0\n",
       "Total Teacher Response Rate %           0\n",
       "Total Student Response Rate %         699\n",
       "Collaborative Teachers Score          149\n",
       "Effective School Leadership Score     149\n",
       "Rigorous Instruction Score            149\n",
       "Strong Family-Community Ties Score    147\n",
       "Trust Score                             0\n",
       "dtype: int64"
      ]
     },
     "execution_count": 7,
     "metadata": {},
     "output_type": "execute_result"
    }
   ],
   "source": [
    "student_df = student_df.drop('Supportive Environment Score', 1)\n",
    "student_df.isna().sum()"
   ]
  },
  {
   "cell_type": "code",
   "execution_count": 8,
   "metadata": {},
   "outputs": [],
   "source": [
    "column_name = 'Strong Family-Community Ties Score'\n",
    "rigorous_score_mean = student_df[column_name].mean()\n",
    "student_df[column_name] = student_df[column_name].fillna(rigorous_score_mean)"
   ]
  },
  {
   "cell_type": "code",
   "execution_count": 9,
   "metadata": {},
   "outputs": [],
   "source": [
    "from sklearn.impute import SimpleImputer\n",
    "column_name = 'Rigorous Instruction Score'\n",
    "imp = SimpleImputer(missing_values=np.nan, strategy='most_frequent')\n",
    "imp.fit(student_df[column_name].values.reshape(-1, 1))\n",
    "\n",
    "student_df[column_name] = imp.transform(student_df[column_name].values.reshape(-1, 1))"
   ]
  },
  {
   "cell_type": "code",
   "execution_count": 10,
   "metadata": {},
   "outputs": [
    {
     "data": {
      "text/plain": [
       "DBN                                     0\n",
       "School Name                             0\n",
       "Total Parent \\nResponse Rate %          0\n",
       "Total Teacher Response Rate %           0\n",
       "Total Student Response Rate %         699\n",
       "Collaborative Teachers Score            0\n",
       "Effective School Leadership Score       0\n",
       "Rigorous Instruction Score              0\n",
       "Strong Family-Community Ties Score      0\n",
       "Trust Score                             0\n",
       "dtype: int64"
      ]
     },
     "execution_count": 10,
     "metadata": {},
     "output_type": "execute_result"
    }
   ],
   "source": [
    "imp = SimpleImputer(missing_values=np.nan, strategy='mean')\n",
    "\n",
    "column_name = 'Collaborative Teachers Score'\n",
    "imp.fit(student_df[column_name].values.reshape(-1, 1))\n",
    "student_df[column_name] = imp.transform(student_df[column_name].values.reshape(-1, 1))\n",
    "\n",
    "column_name = 'Effective School Leadership Score'\n",
    "imp.fit(student_df[column_name].values.reshape(-1, 1))\n",
    "student_df[column_name] = imp.transform(student_df[column_name].values.reshape(-1, 1))\n",
    "\n",
    "student_df.isna().sum()"
   ]
  },
  {
   "cell_type": "code",
   "execution_count": 11,
   "metadata": {},
   "outputs": [
    {
     "data": {
      "text/html": [
       "<div>\n",
       "<style scoped>\n",
       "    .dataframe tbody tr th:only-of-type {\n",
       "        vertical-align: middle;\n",
       "    }\n",
       "\n",
       "    .dataframe tbody tr th {\n",
       "        vertical-align: top;\n",
       "    }\n",
       "\n",
       "    .dataframe thead th {\n",
       "        text-align: right;\n",
       "    }\n",
       "</style>\n",
       "<table border=\"1\" class=\"dataframe\">\n",
       "  <thead>\n",
       "    <tr style=\"text-align: right;\">\n",
       "      <th></th>\n",
       "      <th>Total Parent \n",
       "Response Rate %</th>\n",
       "      <th>Total Teacher Response Rate %</th>\n",
       "      <th>Total Student Response Rate %</th>\n",
       "      <th>Collaborative Teachers Score</th>\n",
       "      <th>Effective School Leadership Score</th>\n",
       "      <th>Rigorous Instruction Score</th>\n",
       "      <th>Strong Family-Community Ties Score</th>\n",
       "      <th>Trust Score</th>\n",
       "    </tr>\n",
       "  </thead>\n",
       "  <tbody>\n",
       "    <tr>\n",
       "      <th>0</th>\n",
       "      <td>91</td>\n",
       "      <td>100</td>\n",
       "      <td>NaN</td>\n",
       "      <td>4.100000</td>\n",
       "      <td>4.190000</td>\n",
       "      <td>4.02</td>\n",
       "      <td>4.180000</td>\n",
       "      <td>3.96</td>\n",
       "    </tr>\n",
       "    <tr>\n",
       "      <th>1</th>\n",
       "      <td>100</td>\n",
       "      <td>93</td>\n",
       "      <td>NaN</td>\n",
       "      <td>4.530000</td>\n",
       "      <td>4.510000</td>\n",
       "      <td>4.80</td>\n",
       "      <td>4.660000</td>\n",
       "      <td>3.76</td>\n",
       "    </tr>\n",
       "    <tr>\n",
       "      <th>2</th>\n",
       "      <td>58</td>\n",
       "      <td>90</td>\n",
       "      <td>NaN</td>\n",
       "      <td>2.710000</td>\n",
       "      <td>2.980000</td>\n",
       "      <td>1.92</td>\n",
       "      <td>3.840000</td>\n",
       "      <td>3.14</td>\n",
       "    </tr>\n",
       "    <tr>\n",
       "      <th>3</th>\n",
       "      <td>29</td>\n",
       "      <td>100</td>\n",
       "      <td>95.0</td>\n",
       "      <td>2.690000</td>\n",
       "      <td>2.590000</td>\n",
       "      <td>2.14</td>\n",
       "      <td>3.670000</td>\n",
       "      <td>2.38</td>\n",
       "    </tr>\n",
       "    <tr>\n",
       "      <th>4</th>\n",
       "      <td>80</td>\n",
       "      <td>100</td>\n",
       "      <td>NaN</td>\n",
       "      <td>3.672382</td>\n",
       "      <td>3.614857</td>\n",
       "      <td>3.69</td>\n",
       "      <td>3.736845</td>\n",
       "      <td>3.77</td>\n",
       "    </tr>\n",
       "  </tbody>\n",
       "</table>\n",
       "</div>"
      ],
      "text/plain": [
       "   Total Parent \\nResponse Rate %  Total Teacher Response Rate %  \\\n",
       "0                              91                            100   \n",
       "1                             100                             93   \n",
       "2                              58                             90   \n",
       "3                              29                            100   \n",
       "4                              80                            100   \n",
       "\n",
       "   Total Student Response Rate %  Collaborative Teachers Score  \\\n",
       "0                            NaN                      4.100000   \n",
       "1                            NaN                      4.530000   \n",
       "2                            NaN                      2.710000   \n",
       "3                           95.0                      2.690000   \n",
       "4                            NaN                      3.672382   \n",
       "\n",
       "   Effective School Leadership Score  Rigorous Instruction Score  \\\n",
       "0                           4.190000                        4.02   \n",
       "1                           4.510000                        4.80   \n",
       "2                           2.980000                        1.92   \n",
       "3                           2.590000                        2.14   \n",
       "4                           3.614857                        3.69   \n",
       "\n",
       "   Strong Family-Community Ties Score  Trust Score  \n",
       "0                            4.180000         3.96  \n",
       "1                            4.660000         3.76  \n",
       "2                            3.840000         3.14  \n",
       "3                            3.670000         2.38  \n",
       "4                            3.736845         3.77  "
      ]
     },
     "execution_count": 11,
     "metadata": {},
     "output_type": "execute_result"
    }
   ],
   "source": [
    "from sklearn.experimental import enable_iterative_imputer\n",
    "from sklearn.impute import IterativeImputer # Note: KNNImputer can be used instead of IterativeImputer\n",
    "imp = IterativeImputer(max_iter=10000, random_state=0)\n",
    "\n",
    "student_features = student_df.drop(['DBN', 'School Name'], axis=1)\n",
    "student_nonnumeric = student_df[['DBN', 'School Name']]\n",
    "\n",
    "student_features.head()"
   ]
  },
  {
   "cell_type": "code",
   "execution_count": 12,
   "metadata": {},
   "outputs": [
    {
     "data": {
      "text/plain": [
       "Total Parent \\nResponse Rate %        0\n",
       "Total Teacher Response Rate %         0\n",
       "Total Student Response Rate %         0\n",
       "Collaborative Teachers Score          0\n",
       "Effective School Leadership Score     0\n",
       "Rigorous Instruction Score            0\n",
       "Strong Family-Community Ties Score    0\n",
       "Trust Score                           0\n",
       "dtype: int64"
      ]
     },
     "execution_count": 12,
     "metadata": {},
     "output_type": "execute_result"
    }
   ],
   "source": [
    "imp.fit(student_features)\n",
    "student_features_arr = imp.transform(student_features)\n",
    "student_features = pd.DataFrame(student_features_arr, columns=student_features.columns)\n",
    "\n",
    "student_features.isna().sum()"
   ]
  },
  {
   "cell_type": "code",
   "execution_count": 13,
   "metadata": {},
   "outputs": [
    {
     "data": {
      "text/html": [
       "<div>\n",
       "<style scoped>\n",
       "    .dataframe tbody tr th:only-of-type {\n",
       "        vertical-align: middle;\n",
       "    }\n",
       "\n",
       "    .dataframe tbody tr th {\n",
       "        vertical-align: top;\n",
       "    }\n",
       "\n",
       "    .dataframe thead th {\n",
       "        text-align: right;\n",
       "    }\n",
       "</style>\n",
       "<table border=\"1\" class=\"dataframe\">\n",
       "  <thead>\n",
       "    <tr style=\"text-align: right;\">\n",
       "      <th></th>\n",
       "      <th>Total Parent \n",
       "Response Rate %</th>\n",
       "      <th>Total Teacher Response Rate %</th>\n",
       "      <th>Total Student Response Rate %</th>\n",
       "      <th>Collaborative Teachers Score</th>\n",
       "      <th>Effective School Leadership Score</th>\n",
       "      <th>Rigorous Instruction Score</th>\n",
       "      <th>Strong Family-Community Ties Score</th>\n",
       "      <th>Trust Score</th>\n",
       "      <th>DBN</th>\n",
       "      <th>School Name</th>\n",
       "    </tr>\n",
       "  </thead>\n",
       "  <tbody>\n",
       "    <tr>\n",
       "      <th>0</th>\n",
       "      <td>91.0</td>\n",
       "      <td>100.0</td>\n",
       "      <td>98.688697</td>\n",
       "      <td>4.100000</td>\n",
       "      <td>4.190000</td>\n",
       "      <td>4.02</td>\n",
       "      <td>4.180000</td>\n",
       "      <td>3.96</td>\n",
       "      <td>01M015</td>\n",
       "      <td>P.S. 015 ROBERTO CLEMENTE</td>\n",
       "    </tr>\n",
       "    <tr>\n",
       "      <th>1</th>\n",
       "      <td>100.0</td>\n",
       "      <td>93.0</td>\n",
       "      <td>102.923773</td>\n",
       "      <td>4.530000</td>\n",
       "      <td>4.510000</td>\n",
       "      <td>4.80</td>\n",
       "      <td>4.660000</td>\n",
       "      <td>3.76</td>\n",
       "      <td>01M019</td>\n",
       "      <td>P.S. 019 ASHER LEVY</td>\n",
       "    </tr>\n",
       "    <tr>\n",
       "      <th>2</th>\n",
       "      <td>58.0</td>\n",
       "      <td>90.0</td>\n",
       "      <td>85.158718</td>\n",
       "      <td>2.710000</td>\n",
       "      <td>2.980000</td>\n",
       "      <td>1.92</td>\n",
       "      <td>3.840000</td>\n",
       "      <td>3.14</td>\n",
       "      <td>01M020</td>\n",
       "      <td>P.S. 020 ANNA SILVER</td>\n",
       "    </tr>\n",
       "    <tr>\n",
       "      <th>3</th>\n",
       "      <td>29.0</td>\n",
       "      <td>100.0</td>\n",
       "      <td>95.000000</td>\n",
       "      <td>2.690000</td>\n",
       "      <td>2.590000</td>\n",
       "      <td>2.14</td>\n",
       "      <td>3.670000</td>\n",
       "      <td>2.38</td>\n",
       "      <td>01M034</td>\n",
       "      <td>P.S. 034 FRANKLIN D. ROOSEVELT</td>\n",
       "    </tr>\n",
       "    <tr>\n",
       "      <th>4</th>\n",
       "      <td>80.0</td>\n",
       "      <td>100.0</td>\n",
       "      <td>95.279381</td>\n",
       "      <td>3.672382</td>\n",
       "      <td>3.614857</td>\n",
       "      <td>3.69</td>\n",
       "      <td>3.736845</td>\n",
       "      <td>3.77</td>\n",
       "      <td>01M063</td>\n",
       "      <td>THE STAR ACADEMY - P.S.63</td>\n",
       "    </tr>\n",
       "  </tbody>\n",
       "</table>\n",
       "</div>"
      ],
      "text/plain": [
       "   Total Parent \\nResponse Rate %  Total Teacher Response Rate %  \\\n",
       "0                            91.0                          100.0   \n",
       "1                           100.0                           93.0   \n",
       "2                            58.0                           90.0   \n",
       "3                            29.0                          100.0   \n",
       "4                            80.0                          100.0   \n",
       "\n",
       "   Total Student Response Rate %  Collaborative Teachers Score  \\\n",
       "0                      98.688697                      4.100000   \n",
       "1                     102.923773                      4.530000   \n",
       "2                      85.158718                      2.710000   \n",
       "3                      95.000000                      2.690000   \n",
       "4                      95.279381                      3.672382   \n",
       "\n",
       "   Effective School Leadership Score  Rigorous Instruction Score  \\\n",
       "0                           4.190000                        4.02   \n",
       "1                           4.510000                        4.80   \n",
       "2                           2.980000                        1.92   \n",
       "3                           2.590000                        2.14   \n",
       "4                           3.614857                        3.69   \n",
       "\n",
       "   Strong Family-Community Ties Score  Trust Score     DBN  \\\n",
       "0                            4.180000         3.96  01M015   \n",
       "1                            4.660000         3.76  01M019   \n",
       "2                            3.840000         3.14  01M020   \n",
       "3                            3.670000         2.38  01M034   \n",
       "4                            3.736845         3.77  01M063   \n",
       "\n",
       "                      School Name  \n",
       "0       P.S. 015 ROBERTO CLEMENTE  \n",
       "1             P.S. 019 ASHER LEVY  \n",
       "2            P.S. 020 ANNA SILVER  \n",
       "3  P.S. 034 FRANKLIN D. ROOSEVELT  \n",
       "4       THE STAR ACADEMY - P.S.63  "
      ]
     },
     "execution_count": 13,
     "metadata": {},
     "output_type": "execute_result"
    }
   ],
   "source": [
    "student_df = pd.concat([student_features, student_nonnumeric], axis=1)\n",
    "student_df = student_df.dropna()\n",
    "student_df.head()"
   ]
  },
  {
   "cell_type": "code",
   "execution_count": 14,
   "metadata": {},
   "outputs": [
    {
     "data": {
      "text/plain": [
       "Total Parent \\nResponse Rate %        0\n",
       "Total Teacher Response Rate %         0\n",
       "Total Student Response Rate %         0\n",
       "Collaborative Teachers Score          0\n",
       "Effective School Leadership Score     0\n",
       "Rigorous Instruction Score            0\n",
       "Strong Family-Community Ties Score    0\n",
       "Trust Score                           0\n",
       "DBN                                   0\n",
       "School Name                           0\n",
       "dtype: int64"
      ]
     },
     "execution_count": 14,
     "metadata": {},
     "output_type": "execute_result"
    }
   ],
   "source": [
    "student_df.isna().sum()"
   ]
  },
  {
   "cell_type": "code",
   "execution_count": 15,
   "metadata": {},
   "outputs": [
    {
     "data": {
      "text/plain": [
       "(1694, 10)"
      ]
     },
     "execution_count": 15,
     "metadata": {},
     "output_type": "execute_result"
    }
   ],
   "source": [
    "student_df.shape"
   ]
  },
  {
   "cell_type": "code",
   "execution_count": 16,
   "metadata": {},
   "outputs": [],
   "source": [
    "student_df.to_csv('2019_PublicDataFile_Students_processed01.csv', index=False)"
   ]
  },
  {
   "cell_type": "code",
   "execution_count": null,
   "metadata": {},
   "outputs": [],
   "source": []
  }
 ],
 "metadata": {
  "kernelspec": {
   "display_name": "Python 3",
   "language": "python",
   "name": "python3"
  },
  "language_info": {
   "codemirror_mode": {
    "name": "ipython",
    "version": 3
   },
   "file_extension": ".py",
   "mimetype": "text/x-python",
   "name": "python",
   "nbconvert_exporter": "python",
   "pygments_lexer": "ipython3",
   "version": "3.6.5"
  }
 },
 "nbformat": 4,
 "nbformat_minor": 2
}
