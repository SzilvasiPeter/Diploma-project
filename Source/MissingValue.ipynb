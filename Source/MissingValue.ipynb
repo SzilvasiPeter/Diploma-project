{
 "cells": [
  {
   "cell_type": "code",
   "execution_count": 1,
   "metadata": {},
   "outputs": [],
   "source": [
    "import sklearn\n",
    "\n",
    "import pandas as pd\n",
    "import numpy as np"
   ]
  },
  {
   "cell_type": "code",
   "execution_count": 2,
   "metadata": {},
   "outputs": [
    {
     "name": "stdout",
     "output_type": "stream",
     "text": [
      "0.23.2\n",
      "1.18.5\n",
      "0.23.0\n"
     ]
    }
   ],
   "source": [
    "print(sklearn.__version__)\n",
    "print(np.__version__)\n",
    "print(pd.__version__)"
   ]
  },
  {
   "cell_type": "code",
   "execution_count": 3,
   "metadata": {},
   "outputs": [
    {
     "data": {
      "text/html": [
       "<div>\n",
       "<style scoped>\n",
       "    .dataframe tbody tr th:only-of-type {\n",
       "        vertical-align: middle;\n",
       "    }\n",
       "\n",
       "    .dataframe tbody tr th {\n",
       "        vertical-align: top;\n",
       "    }\n",
       "\n",
       "    .dataframe thead th {\n",
       "        text-align: right;\n",
       "    }\n",
       "</style>\n",
       "<table border=\"1\" class=\"dataframe\">\n",
       "  <thead>\n",
       "    <tr style=\"text-align: right;\">\n",
       "      <th></th>\n",
       "      <th>DBN</th>\n",
       "      <th>School Name</th>\n",
       "      <th>Total Parent \n",
       "Response Rate %</th>\n",
       "      <th>Total Teacher Response Rate %</th>\n",
       "      <th>Total Student Response Rate %</th>\n",
       "      <th>Collaborative Teachers Score</th>\n",
       "      <th>Effective School Leadership Score</th>\n",
       "      <th>Rigorous Instruction Score</th>\n",
       "      <th>Supportive Environment Score</th>\n",
       "      <th>Strong Family-Community Ties Score</th>\n",
       "      <th>Trust Score</th>\n",
       "    </tr>\n",
       "  </thead>\n",
       "  <tbody>\n",
       "    <tr>\n",
       "      <th>0</th>\n",
       "      <td>01M015</td>\n",
       "      <td>P.S. 015 ROBERTO CLEMENTE</td>\n",
       "      <td>91</td>\n",
       "      <td>100</td>\n",
       "      <td>NaN</td>\n",
       "      <td>4.10</td>\n",
       "      <td>4.19</td>\n",
       "      <td>4.02</td>\n",
       "      <td>NaN</td>\n",
       "      <td>4.18</td>\n",
       "      <td>3.96</td>\n",
       "    </tr>\n",
       "    <tr>\n",
       "      <th>1</th>\n",
       "      <td>01M019</td>\n",
       "      <td>P.S. 019 ASHER LEVY</td>\n",
       "      <td>100</td>\n",
       "      <td>93</td>\n",
       "      <td>NaN</td>\n",
       "      <td>4.53</td>\n",
       "      <td>4.51</td>\n",
       "      <td>4.80</td>\n",
       "      <td>NaN</td>\n",
       "      <td>4.66</td>\n",
       "      <td>3.76</td>\n",
       "    </tr>\n",
       "    <tr>\n",
       "      <th>2</th>\n",
       "      <td>01M020</td>\n",
       "      <td>P.S. 020 ANNA SILVER</td>\n",
       "      <td>58</td>\n",
       "      <td>90</td>\n",
       "      <td>NaN</td>\n",
       "      <td>2.71</td>\n",
       "      <td>2.98</td>\n",
       "      <td>1.92</td>\n",
       "      <td>NaN</td>\n",
       "      <td>3.84</td>\n",
       "      <td>3.14</td>\n",
       "    </tr>\n",
       "    <tr>\n",
       "      <th>3</th>\n",
       "      <td>01M034</td>\n",
       "      <td>P.S. 034 FRANKLIN D. ROOSEVELT</td>\n",
       "      <td>29</td>\n",
       "      <td>100</td>\n",
       "      <td>95.0</td>\n",
       "      <td>2.69</td>\n",
       "      <td>2.59</td>\n",
       "      <td>2.14</td>\n",
       "      <td>NaN</td>\n",
       "      <td>3.67</td>\n",
       "      <td>2.38</td>\n",
       "    </tr>\n",
       "    <tr>\n",
       "      <th>4</th>\n",
       "      <td>01M063</td>\n",
       "      <td>THE STAR ACADEMY - P.S.63</td>\n",
       "      <td>80</td>\n",
       "      <td>100</td>\n",
       "      <td>NaN</td>\n",
       "      <td>NaN</td>\n",
       "      <td>NaN</td>\n",
       "      <td>NaN</td>\n",
       "      <td>NaN</td>\n",
       "      <td>NaN</td>\n",
       "      <td>3.77</td>\n",
       "    </tr>\n",
       "  </tbody>\n",
       "</table>\n",
       "</div>"
      ],
      "text/plain": [
       "      DBN                     School Name  Total Parent \\nResponse Rate %  \\\n",
       "0  01M015       P.S. 015 ROBERTO CLEMENTE                              91   \n",
       "1  01M019             P.S. 019 ASHER LEVY                             100   \n",
       "2  01M020            P.S. 020 ANNA SILVER                              58   \n",
       "3  01M034  P.S. 034 FRANKLIN D. ROOSEVELT                              29   \n",
       "4  01M063       THE STAR ACADEMY - P.S.63                              80   \n",
       "\n",
       "   Total Teacher Response Rate %  Total Student Response Rate %  \\\n",
       "0                            100                            NaN   \n",
       "1                             93                            NaN   \n",
       "2                             90                            NaN   \n",
       "3                            100                           95.0   \n",
       "4                            100                            NaN   \n",
       "\n",
       "   Collaborative Teachers Score  Effective School Leadership Score  \\\n",
       "0                          4.10                               4.19   \n",
       "1                          4.53                               4.51   \n",
       "2                          2.71                               2.98   \n",
       "3                          2.69                               2.59   \n",
       "4                           NaN                                NaN   \n",
       "\n",
       "   Rigorous Instruction Score  Supportive Environment Score  \\\n",
       "0                        4.02                           NaN   \n",
       "1                        4.80                           NaN   \n",
       "2                        1.92                           NaN   \n",
       "3                        2.14                           NaN   \n",
       "4                         NaN                           NaN   \n",
       "\n",
       "   Strong Family-Community Ties Score  Trust Score  \n",
       "0                                4.18         3.96  \n",
       "1                                4.66         3.76  \n",
       "2                                3.84         3.14  \n",
       "3                                3.67         2.38  \n",
       "4                                 NaN         3.77  "
      ]
     },
     "execution_count": 3,
     "metadata": {},
     "output_type": "execute_result"
    }
   ],
   "source": [
    "student_df = pd.read_csv('..\\\\datasets\\\\2019_PublicDataFile_Students.csv')\n",
    "student_df.head(5)"
   ]
  },
  {
   "cell_type": "code",
   "execution_count": 4,
   "metadata": {},
   "outputs": [
    {
     "data": {
      "text/plain": [
       "(1829, 11)"
      ]
     },
     "execution_count": 4,
     "metadata": {},
     "output_type": "execute_result"
    }
   ],
   "source": [
    "student_df.shape"
   ]
  },
  {
   "cell_type": "code",
   "execution_count": 5,
   "metadata": {},
   "outputs": [
    {
     "data": {
      "text/plain": [
       "DBN                                      0\n",
       "School Name                              0\n",
       "Total Parent \\nResponse Rate %           0\n",
       "Total Teacher Response Rate %            0\n",
       "Total Student Response Rate %          720\n",
       "Collaborative Teachers Score           204\n",
       "Effective School Leadership Score      204\n",
       "Rigorous Instruction Score             204\n",
       "Supportive Environment Score          1829\n",
       "Strong Family-Community Ties Score     219\n",
       "Trust Score                             72\n",
       "dtype: int64"
      ]
     },
     "execution_count": 5,
     "metadata": {},
     "output_type": "execute_result"
    }
   ],
   "source": [
    "student_df.isna().sum()"
   ]
  },
  {
   "cell_type": "code",
   "execution_count": 20,
   "metadata": {},
   "outputs": [],
   "source": [
    "student_df = student_df.drop('Supportive Environment Score', 1)"
   ]
  },
  {
   "cell_type": "code",
   "execution_count": 21,
   "metadata": {},
   "outputs": [
    {
     "data": {
      "text/plain": [
       "DBN                                     0\n",
       "School Name                             0\n",
       "Total Parent \\nResponse Rate %          0\n",
       "Total Teacher Response Rate %           0\n",
       "Total Student Response Rate %         720\n",
       "Collaborative Teachers Score          204\n",
       "Effective School Leadership Score     204\n",
       "Rigorous Instruction Score            204\n",
       "Strong Family-Community Ties Score    219\n",
       "Trust Score                            72\n",
       "dtype: int64"
      ]
     },
     "execution_count": 21,
     "metadata": {},
     "output_type": "execute_result"
    }
   ],
   "source": [
    "student_df.isna().sum()"
   ]
  },
  {
   "cell_type": "code",
   "execution_count": null,
   "metadata": {},
   "outputs": [],
   "source": []
  }
 ],
 "metadata": {
  "kernelspec": {
   "display_name": "Python 3",
   "language": "python",
   "name": "python3"
  },
  "language_info": {
   "codemirror_mode": {
    "name": "ipython",
    "version": 3
   },
   "file_extension": ".py",
   "mimetype": "text/x-python",
   "name": "python",
   "nbconvert_exporter": "python",
   "pygments_lexer": "ipython3",
   "version": "3.6.5"
  }
 },
 "nbformat": 4,
 "nbformat_minor": 2
}
