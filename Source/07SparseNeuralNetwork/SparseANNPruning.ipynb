{
 "cells": [
  {
   "cell_type": "code",
   "execution_count": null,
   "metadata": {},
   "outputs": [],
   "source": [
    "!pip install -q tensorflow-model-optimization"
   ]
  },
  {
   "cell_type": "code",
   "execution_count": 1,
   "metadata": {},
   "outputs": [],
   "source": [
    "import tempfile\n",
    "import os\n",
    "\n",
    "import tensorflow as tf\n",
    "import numpy as np\n",
    "import pandas as pd\n",
    "\n",
    "from tensorflow import keras\n",
    "from tensorflow.keras.layers.experimental import preprocessing"
   ]
  },
  {
   "cell_type": "code",
   "execution_count": 2,
   "metadata": {},
   "outputs": [],
   "source": [
    "# Load data\n",
    "student_df = pd.read_csv('../../datasets/student_mat_processed01.csv')\n",
    "\n",
    "train_dataset = student_df.sample(frac=0.8, random_state=0)\n",
    "test_dataset = student_df.drop(train_dataset.index)\n",
    "\n",
    "train_features = train_dataset.copy()\n",
    "test_features = test_dataset.copy()\n",
    "\n",
    "train_G1_targets = train_features.pop('G1')\n",
    "train_G2_targets = train_features.pop('G2')\n",
    "train_G3_targets = train_features.pop('G3')\n",
    "\n",
    "test_G1_targets = test_features.pop('G1')\n",
    "test_G2_targets = test_features.pop('G2')\n",
    "test_G3_targets = test_features.pop('G3')"
   ]
  },
  {
   "cell_type": "code",
   "execution_count": 3,
   "metadata": {},
   "outputs": [],
   "source": [
    "# Normalizer Layer\n",
    "normalizer = preprocessing.Normalization()\n",
    "normalizer.adapt(np.array(train_features))"
   ]
  },
  {
   "cell_type": "code",
   "execution_count": 4,
   "metadata": {},
   "outputs": [],
   "source": [
    "# Define the model architecture.\n",
    "def build_and_compile_model():\n",
    "    model = keras.Sequential([\n",
    "        keras.layers.InputLayer(input_shape=(45)),\n",
    "        keras.layers.Dense(32, activation='relu'),\n",
    "        keras.layers.Dense(16, activation='relu'),\n",
    "        keras.layers.Dense(8, activation='relu'),\n",
    "        keras.layers.Dense(1)\n",
    "    ])\n",
    "\n",
    "    # Train the model\n",
    "    model.compile(loss='mean_absolute_error', metrics=[tf.keras.metrics.MeanAbsoluteError()],\n",
    "                  optimizer=tf.keras.optimizers.Adam(0.001))\n",
    "    \n",
    "    return model"
   ]
  },
  {
   "cell_type": "code",
   "execution_count": 5,
   "metadata": {},
   "outputs": [
    {
     "name": "stdout",
     "output_type": "stream",
     "text": [
      "Model: \"sequential\"\n",
      "_________________________________________________________________\n",
      "Layer (type)                 Output Shape              Param #   \n",
      "=================================================================\n",
      "dense (Dense)                (None, 32)                1472      \n",
      "_________________________________________________________________\n",
      "dense_1 (Dense)              (None, 16)                528       \n",
      "_________________________________________________________________\n",
      "dense_2 (Dense)              (None, 8)                 136       \n",
      "_________________________________________________________________\n",
      "dense_3 (Dense)              (None, 1)                 9         \n",
      "=================================================================\n",
      "Total params: 2,145\n",
      "Trainable params: 2,145\n",
      "Non-trainable params: 0\n",
      "_________________________________________________________________\n"
     ]
    }
   ],
   "source": [
    "fc_model = build_and_compile_model()\n",
    "fc_model.summary()"
   ]
  },
  {
   "cell_type": "code",
   "execution_count": 58,
   "metadata": {},
   "outputs": [
    {
     "name": "stdout",
     "output_type": "stream",
     "text": [
      "Epoch 1/100\n",
      "8/8 [==============================] - 0s 21ms/step - loss: 0.7990 - mean_absolute_error: 0.7990 - val_loss: 3.7247 - val_mean_absolute_error: 3.7247\n",
      "Epoch 2/100\n",
      "8/8 [==============================] - 0s 6ms/step - loss: 0.8140 - mean_absolute_error: 0.8140 - val_loss: 3.8510 - val_mean_absolute_error: 3.8510\n",
      "Epoch 3/100\n",
      "8/8 [==============================] - 0s 7ms/step - loss: 0.7610 - mean_absolute_error: 0.7610 - val_loss: 3.7407 - val_mean_absolute_error: 3.7407\n",
      "Epoch 4/100\n",
      "8/8 [==============================] - 0s 8ms/step - loss: 0.6594 - mean_absolute_error: 0.6594 - val_loss: 3.6565 - val_mean_absolute_error: 3.6565\n",
      "Epoch 5/100\n",
      "8/8 [==============================] - 0s 7ms/step - loss: 0.6556 - mean_absolute_error: 0.6556 - val_loss: 3.6599 - val_mean_absolute_error: 3.6599\n",
      "Epoch 6/100\n",
      "8/8 [==============================] - 0s 6ms/step - loss: 0.6063 - mean_absolute_error: 0.6063 - val_loss: 3.6606 - val_mean_absolute_error: 3.6606\n",
      "Epoch 7/100\n",
      "8/8 [==============================] - 0s 7ms/step - loss: 0.5929 - mean_absolute_error: 0.5929 - val_loss: 3.7303 - val_mean_absolute_error: 3.7303\n",
      "Epoch 8/100\n",
      "8/8 [==============================] - 0s 6ms/step - loss: 0.5445 - mean_absolute_error: 0.5445 - val_loss: 3.7537 - val_mean_absolute_error: 3.7537\n",
      "Epoch 9/100\n",
      "8/8 [==============================] - 0s 7ms/step - loss: 0.5216 - mean_absolute_error: 0.5216 - val_loss: 3.7125 - val_mean_absolute_error: 3.7125\n",
      "Epoch 10/100\n",
      "8/8 [==============================] - 0s 6ms/step - loss: 0.5234 - mean_absolute_error: 0.5234 - val_loss: 3.8088 - val_mean_absolute_error: 3.8088\n",
      "Epoch 11/100\n",
      "8/8 [==============================] - 0s 7ms/step - loss: 0.5593 - mean_absolute_error: 0.5593 - val_loss: 3.8242 - val_mean_absolute_error: 3.8242\n",
      "Epoch 12/100\n",
      "8/8 [==============================] - 0s 6ms/step - loss: 0.5370 - mean_absolute_error: 0.5370 - val_loss: 3.7765 - val_mean_absolute_error: 3.7765\n",
      "Epoch 13/100\n",
      "8/8 [==============================] - 0s 6ms/step - loss: 0.4906 - mean_absolute_error: 0.4906 - val_loss: 3.7500 - val_mean_absolute_error: 3.7500\n",
      "Epoch 14/100\n",
      "8/8 [==============================] - 0s 6ms/step - loss: 0.4967 - mean_absolute_error: 0.4967 - val_loss: 3.7830 - val_mean_absolute_error: 3.7830\n",
      "Epoch 15/100\n",
      "8/8 [==============================] - 0s 7ms/step - loss: 0.4787 - mean_absolute_error: 0.4787 - val_loss: 3.7701 - val_mean_absolute_error: 3.7701\n",
      "Epoch 16/100\n",
      "8/8 [==============================] - 0s 7ms/step - loss: 0.4825 - mean_absolute_error: 0.4825 - val_loss: 3.8250 - val_mean_absolute_error: 3.8250\n",
      "Epoch 17/100\n",
      "8/8 [==============================] - 0s 7ms/step - loss: 0.4791 - mean_absolute_error: 0.4791 - val_loss: 3.8058 - val_mean_absolute_error: 3.8058\n",
      "Epoch 18/100\n",
      "8/8 [==============================] - 0s 6ms/step - loss: 0.5372 - mean_absolute_error: 0.5372 - val_loss: 3.8464 - val_mean_absolute_error: 3.8464\n",
      "Epoch 19/100\n",
      "8/8 [==============================] - 0s 6ms/step - loss: 0.4878 - mean_absolute_error: 0.4878 - val_loss: 3.7146 - val_mean_absolute_error: 3.7146\n",
      "Epoch 20/100\n",
      "8/8 [==============================] - 0s 6ms/step - loss: 0.4533 - mean_absolute_error: 0.4533 - val_loss: 3.8373 - val_mean_absolute_error: 3.8373\n",
      "Epoch 21/100\n",
      "8/8 [==============================] - 0s 7ms/step - loss: 0.4870 - mean_absolute_error: 0.4870 - val_loss: 3.7827 - val_mean_absolute_error: 3.7827\n",
      "Epoch 22/100\n",
      "8/8 [==============================] - 0s 6ms/step - loss: 0.4418 - mean_absolute_error: 0.4418 - val_loss: 3.7666 - val_mean_absolute_error: 3.7666\n",
      "Epoch 23/100\n",
      "8/8 [==============================] - 0s 7ms/step - loss: 0.5163 - mean_absolute_error: 0.5163 - val_loss: 3.7728 - val_mean_absolute_error: 3.7728\n",
      "Epoch 24/100\n",
      "8/8 [==============================] - 0s 7ms/step - loss: 0.5095 - mean_absolute_error: 0.5095 - val_loss: 3.7359 - val_mean_absolute_error: 3.7359\n",
      "Epoch 25/100\n",
      "8/8 [==============================] - 0s 6ms/step - loss: 0.4781 - mean_absolute_error: 0.4781 - val_loss: 3.7239 - val_mean_absolute_error: 3.7239\n",
      "Epoch 26/100\n",
      "8/8 [==============================] - 0s 6ms/step - loss: 0.4522 - mean_absolute_error: 0.4522 - val_loss: 3.8359 - val_mean_absolute_error: 3.8359\n",
      "Epoch 27/100\n",
      "8/8 [==============================] - 0s 6ms/step - loss: 0.4516 - mean_absolute_error: 0.4516 - val_loss: 3.7794 - val_mean_absolute_error: 3.7794\n",
      "Epoch 28/100\n",
      "8/8 [==============================] - 0s 7ms/step - loss: 0.4343 - mean_absolute_error: 0.4343 - val_loss: 3.7696 - val_mean_absolute_error: 3.7696\n",
      "Epoch 29/100\n",
      "8/8 [==============================] - 0s 6ms/step - loss: 0.4219 - mean_absolute_error: 0.4219 - val_loss: 3.7736 - val_mean_absolute_error: 3.7736\n",
      "Epoch 30/100\n",
      "8/8 [==============================] - 0s 7ms/step - loss: 0.4492 - mean_absolute_error: 0.4492 - val_loss: 3.7676 - val_mean_absolute_error: 3.7676\n",
      "Epoch 31/100\n",
      "8/8 [==============================] - 0s 5ms/step - loss: 0.4431 - mean_absolute_error: 0.4431 - val_loss: 3.8257 - val_mean_absolute_error: 3.8257\n",
      "Epoch 32/100\n",
      "8/8 [==============================] - 0s 6ms/step - loss: 0.4382 - mean_absolute_error: 0.4382 - val_loss: 3.7956 - val_mean_absolute_error: 3.7956\n",
      "Epoch 33/100\n",
      "8/8 [==============================] - 0s 5ms/step - loss: 0.4000 - mean_absolute_error: 0.4000 - val_loss: 3.8166 - val_mean_absolute_error: 3.8166\n",
      "Epoch 34/100\n",
      "8/8 [==============================] - 0s 6ms/step - loss: 0.4144 - mean_absolute_error: 0.4144 - val_loss: 3.8352 - val_mean_absolute_error: 3.8352\n",
      "Epoch 35/100\n",
      "8/8 [==============================] - 0s 7ms/step - loss: 0.4381 - mean_absolute_error: 0.4381 - val_loss: 3.8296 - val_mean_absolute_error: 3.8296\n",
      "Epoch 36/100\n",
      "8/8 [==============================] - 0s 5ms/step - loss: 0.4000 - mean_absolute_error: 0.4000 - val_loss: 3.7401 - val_mean_absolute_error: 3.7401\n",
      "Epoch 37/100\n",
      "8/8 [==============================] - 0s 5ms/step - loss: 0.4215 - mean_absolute_error: 0.4215 - val_loss: 3.8501 - val_mean_absolute_error: 3.8501\n",
      "Epoch 38/100\n",
      "8/8 [==============================] - 0s 6ms/step - loss: 0.4485 - mean_absolute_error: 0.4485 - val_loss: 3.8543 - val_mean_absolute_error: 3.8543\n",
      "Epoch 39/100\n",
      "8/8 [==============================] - 0s 6ms/step - loss: 0.3961 - mean_absolute_error: 0.3961 - val_loss: 3.7833 - val_mean_absolute_error: 3.7833\n",
      "Epoch 40/100\n",
      "8/8 [==============================] - 0s 6ms/step - loss: 0.4308 - mean_absolute_error: 0.4308 - val_loss: 3.7999 - val_mean_absolute_error: 3.7999\n",
      "Epoch 41/100\n",
      "8/8 [==============================] - 0s 7ms/step - loss: 0.4107 - mean_absolute_error: 0.4107 - val_loss: 3.7328 - val_mean_absolute_error: 3.7328\n",
      "Epoch 42/100\n",
      "8/8 [==============================] - 0s 6ms/step - loss: 0.4368 - mean_absolute_error: 0.4368 - val_loss: 3.7836 - val_mean_absolute_error: 3.7836\n",
      "Epoch 43/100\n",
      "8/8 [==============================] - 0s 6ms/step - loss: 0.3854 - mean_absolute_error: 0.3854 - val_loss: 3.8270 - val_mean_absolute_error: 3.8270\n",
      "Epoch 44/100\n",
      "8/8 [==============================] - 0s 6ms/step - loss: 0.3813 - mean_absolute_error: 0.3813 - val_loss: 3.8291 - val_mean_absolute_error: 3.8291\n",
      "Epoch 45/100\n",
      "8/8 [==============================] - 0s 6ms/step - loss: 0.3745 - mean_absolute_error: 0.3745 - val_loss: 3.7864 - val_mean_absolute_error: 3.7864\n",
      "Epoch 46/100\n",
      "8/8 [==============================] - 0s 6ms/step - loss: 0.3789 - mean_absolute_error: 0.3789 - val_loss: 3.8144 - val_mean_absolute_error: 3.8144\n",
      "Epoch 47/100\n",
      "8/8 [==============================] - 0s 7ms/step - loss: 0.4135 - mean_absolute_error: 0.4135 - val_loss: 3.8618 - val_mean_absolute_error: 3.8618\n",
      "Epoch 48/100\n",
      "8/8 [==============================] - 0s 6ms/step - loss: 0.4032 - mean_absolute_error: 0.4032 - val_loss: 3.7310 - val_mean_absolute_error: 3.7310\n",
      "Epoch 49/100\n",
      "8/8 [==============================] - 0s 6ms/step - loss: 0.4156 - mean_absolute_error: 0.4156 - val_loss: 3.7850 - val_mean_absolute_error: 3.7850\n",
      "Epoch 50/100\n",
      "8/8 [==============================] - 0s 6ms/step - loss: 0.4110 - mean_absolute_error: 0.4110 - val_loss: 3.8715 - val_mean_absolute_error: 3.8715\n",
      "Epoch 51/100\n"
     ]
    },
    {
     "name": "stdout",
     "output_type": "stream",
     "text": [
      "8/8 [==============================] - 0s 6ms/step - loss: 0.3728 - mean_absolute_error: 0.3728 - val_loss: 3.8071 - val_mean_absolute_error: 3.8071\n",
      "Epoch 52/100\n",
      "8/8 [==============================] - 0s 7ms/step - loss: 0.3628 - mean_absolute_error: 0.3628 - val_loss: 3.8358 - val_mean_absolute_error: 3.8358\n",
      "Epoch 53/100\n",
      "8/8 [==============================] - 0s 6ms/step - loss: 0.3611 - mean_absolute_error: 0.3611 - val_loss: 3.8069 - val_mean_absolute_error: 3.8069\n",
      "Epoch 54/100\n",
      "8/8 [==============================] - 0s 6ms/step - loss: 0.3835 - mean_absolute_error: 0.3835 - val_loss: 3.8771 - val_mean_absolute_error: 3.8771\n",
      "Epoch 55/100\n",
      "8/8 [==============================] - 0s 5ms/step - loss: 0.3546 - mean_absolute_error: 0.3546 - val_loss: 3.8102 - val_mean_absolute_error: 3.8102\n",
      "Epoch 56/100\n",
      "8/8 [==============================] - 0s 6ms/step - loss: 0.3569 - mean_absolute_error: 0.3569 - val_loss: 3.8183 - val_mean_absolute_error: 3.8183\n",
      "Epoch 57/100\n",
      "8/8 [==============================] - 0s 5ms/step - loss: 0.3610 - mean_absolute_error: 0.3610 - val_loss: 3.8379 - val_mean_absolute_error: 3.8379\n",
      "Epoch 58/100\n",
      "8/8 [==============================] - 0s 7ms/step - loss: 0.3655 - mean_absolute_error: 0.3655 - val_loss: 3.8084 - val_mean_absolute_error: 3.8084\n",
      "Epoch 59/100\n",
      "8/8 [==============================] - 0s 6ms/step - loss: 0.3503 - mean_absolute_error: 0.3503 - val_loss: 3.8380 - val_mean_absolute_error: 3.8380\n",
      "Epoch 60/100\n",
      "8/8 [==============================] - 0s 6ms/step - loss: 0.3732 - mean_absolute_error: 0.3732 - val_loss: 3.8354 - val_mean_absolute_error: 3.8354\n",
      "Epoch 61/100\n",
      "8/8 [==============================] - 0s 7ms/step - loss: 0.3489 - mean_absolute_error: 0.3489 - val_loss: 3.8367 - val_mean_absolute_error: 3.8367\n",
      "Epoch 62/100\n",
      "8/8 [==============================] - 0s 7ms/step - loss: 0.3299 - mean_absolute_error: 0.3299 - val_loss: 3.8194 - val_mean_absolute_error: 3.8194\n",
      "Epoch 63/100\n",
      "8/8 [==============================] - 0s 6ms/step - loss: 0.3454 - mean_absolute_error: 0.3454 - val_loss: 3.8954 - val_mean_absolute_error: 3.8954\n",
      "Epoch 64/100\n",
      "8/8 [==============================] - 0s 7ms/step - loss: 0.3580 - mean_absolute_error: 0.3580 - val_loss: 3.7993 - val_mean_absolute_error: 3.7993\n",
      "Epoch 65/100\n",
      "8/8 [==============================] - 0s 6ms/step - loss: 0.3782 - mean_absolute_error: 0.3782 - val_loss: 3.8299 - val_mean_absolute_error: 3.8299\n",
      "Epoch 66/100\n",
      "8/8 [==============================] - 0s 7ms/step - loss: 0.3493 - mean_absolute_error: 0.3493 - val_loss: 3.8778 - val_mean_absolute_error: 3.8778\n",
      "Epoch 67/100\n",
      "8/8 [==============================] - 0s 6ms/step - loss: 0.3331 - mean_absolute_error: 0.3331 - val_loss: 3.8450 - val_mean_absolute_error: 3.8450\n",
      "Epoch 68/100\n",
      "8/8 [==============================] - 0s 6ms/step - loss: 0.3543 - mean_absolute_error: 0.3543 - val_loss: 3.9164 - val_mean_absolute_error: 3.9164\n",
      "Epoch 69/100\n",
      "8/8 [==============================] - 0s 6ms/step - loss: 0.3447 - mean_absolute_error: 0.3447 - val_loss: 3.8569 - val_mean_absolute_error: 3.8569\n",
      "Epoch 70/100\n",
      "8/8 [==============================] - 0s 6ms/step - loss: 0.3163 - mean_absolute_error: 0.3163 - val_loss: 3.8618 - val_mean_absolute_error: 3.8618\n",
      "Epoch 71/100\n",
      "8/8 [==============================] - 0s 7ms/step - loss: 0.3509 - mean_absolute_error: 0.3509 - val_loss: 3.8668 - val_mean_absolute_error: 3.8668\n",
      "Epoch 72/100\n",
      "8/8 [==============================] - 0s 5ms/step - loss: 0.3429 - mean_absolute_error: 0.3429 - val_loss: 3.8771 - val_mean_absolute_error: 3.8771\n",
      "Epoch 73/100\n",
      "8/8 [==============================] - 0s 6ms/step - loss: 0.3391 - mean_absolute_error: 0.3391 - val_loss: 3.8689 - val_mean_absolute_error: 3.8689\n",
      "Epoch 74/100\n",
      "8/8 [==============================] - 0s 5ms/step - loss: 0.3205 - mean_absolute_error: 0.3205 - val_loss: 3.8606 - val_mean_absolute_error: 3.8606\n",
      "Epoch 75/100\n",
      "8/8 [==============================] - 0s 5ms/step - loss: 0.3382 - mean_absolute_error: 0.3382 - val_loss: 3.8710 - val_mean_absolute_error: 3.8710\n",
      "Epoch 76/100\n",
      "8/8 [==============================] - 0s 6ms/step - loss: 0.3126 - mean_absolute_error: 0.3126 - val_loss: 3.8205 - val_mean_absolute_error: 3.8205\n",
      "Epoch 77/100\n",
      "8/8 [==============================] - 0s 6ms/step - loss: 0.3444 - mean_absolute_error: 0.3444 - val_loss: 3.8484 - val_mean_absolute_error: 3.8484\n",
      "Epoch 78/100\n",
      "8/8 [==============================] - 0s 6ms/step - loss: 0.3152 - mean_absolute_error: 0.3152 - val_loss: 3.9073 - val_mean_absolute_error: 3.9073\n",
      "Epoch 79/100\n",
      "8/8 [==============================] - 0s 6ms/step - loss: 0.3085 - mean_absolute_error: 0.3085 - val_loss: 3.8794 - val_mean_absolute_error: 3.8794\n",
      "Epoch 80/100\n",
      "8/8 [==============================] - 0s 7ms/step - loss: 0.3646 - mean_absolute_error: 0.3646 - val_loss: 3.7913 - val_mean_absolute_error: 3.7913\n",
      "Epoch 81/100\n",
      "8/8 [==============================] - 0s 6ms/step - loss: 0.3726 - mean_absolute_error: 0.3726 - val_loss: 3.8906 - val_mean_absolute_error: 3.8906\n",
      "Epoch 82/100\n",
      "8/8 [==============================] - 0s 6ms/step - loss: 0.3681 - mean_absolute_error: 0.3681 - val_loss: 3.9404 - val_mean_absolute_error: 3.9404\n",
      "Epoch 83/100\n",
      "8/8 [==============================] - 0s 5ms/step - loss: 0.4355 - mean_absolute_error: 0.4355 - val_loss: 3.8214 - val_mean_absolute_error: 3.8214\n",
      "Epoch 84/100\n",
      "8/8 [==============================] - 0s 6ms/step - loss: 0.3776 - mean_absolute_error: 0.3776 - val_loss: 3.8429 - val_mean_absolute_error: 3.8429\n",
      "Epoch 85/100\n",
      "8/8 [==============================] - 0s 7ms/step - loss: 0.3528 - mean_absolute_error: 0.3528 - val_loss: 3.9367 - val_mean_absolute_error: 3.9367\n",
      "Epoch 86/100\n",
      "8/8 [==============================] - 0s 6ms/step - loss: 0.3441 - mean_absolute_error: 0.3441 - val_loss: 3.8728 - val_mean_absolute_error: 3.8728\n",
      "Epoch 87/100\n",
      "8/8 [==============================] - 0s 6ms/step - loss: 0.3177 - mean_absolute_error: 0.3177 - val_loss: 3.9488 - val_mean_absolute_error: 3.9488\n",
      "Epoch 88/100\n",
      "8/8 [==============================] - 0s 5ms/step - loss: 0.3335 - mean_absolute_error: 0.3335 - val_loss: 3.8725 - val_mean_absolute_error: 3.8725\n",
      "Epoch 89/100\n",
      "8/8 [==============================] - 0s 5ms/step - loss: 0.3344 - mean_absolute_error: 0.3344 - val_loss: 3.8807 - val_mean_absolute_error: 3.8807\n",
      "Epoch 90/100\n",
      "8/8 [==============================] - 0s 6ms/step - loss: 0.3685 - mean_absolute_error: 0.3685 - val_loss: 3.8755 - val_mean_absolute_error: 3.8755\n",
      "Epoch 91/100\n",
      "8/8 [==============================] - 0s 6ms/step - loss: 0.3349 - mean_absolute_error: 0.3349 - val_loss: 3.8776 - val_mean_absolute_error: 3.8776\n",
      "Epoch 92/100\n",
      "8/8 [==============================] - 0s 6ms/step - loss: 0.3266 - mean_absolute_error: 0.3266 - val_loss: 3.9242 - val_mean_absolute_error: 3.9242\n",
      "Epoch 93/100\n",
      "8/8 [==============================] - 0s 8ms/step - loss: 0.3625 - mean_absolute_error: 0.3625 - val_loss: 3.8325 - val_mean_absolute_error: 3.8325\n",
      "Epoch 94/100\n",
      "8/8 [==============================] - 0s 6ms/step - loss: 0.3617 - mean_absolute_error: 0.3617 - val_loss: 3.9241 - val_mean_absolute_error: 3.9241\n",
      "Epoch 95/100\n",
      "8/8 [==============================] - 0s 6ms/step - loss: 0.3513 - mean_absolute_error: 0.3513 - val_loss: 3.8936 - val_mean_absolute_error: 3.8936\n",
      "Epoch 96/100\n",
      "8/8 [==============================] - 0s 6ms/step - loss: 0.3629 - mean_absolute_error: 0.3629 - val_loss: 3.9028 - val_mean_absolute_error: 3.9028\n",
      "Epoch 97/100\n",
      "8/8 [==============================] - 0s 6ms/step - loss: 0.3373 - mean_absolute_error: 0.3373 - val_loss: 3.8995 - val_mean_absolute_error: 3.8995\n",
      "Epoch 98/100\n",
      "8/8 [==============================] - 0s 7ms/step - loss: 0.3341 - mean_absolute_error: 0.3341 - val_loss: 3.8716 - val_mean_absolute_error: 3.8716\n",
      "Epoch 99/100\n",
      "8/8 [==============================] - 0s 6ms/step - loss: 0.3168 - mean_absolute_error: 0.3168 - val_loss: 3.9227 - val_mean_absolute_error: 3.9227\n",
      "Epoch 100/100\n",
      "8/8 [==============================] - 0s 7ms/step - loss: 0.3040 - mean_absolute_error: 0.3040 - val_loss: 3.8600 - val_mean_absolute_error: 3.8600\n"
     ]
    }
   ],
   "source": [
    "history = fc_model.fit(\n",
    "    train_features, train_G3_targets,\n",
    "    validation_split=0.2,\n",
    "    verbose=1, epochs=100)"
   ]
  },
  {
   "cell_type": "code",
   "execution_count": 59,
   "metadata": {},
   "outputs": [
    {
     "name": "stdout",
     "output_type": "stream",
     "text": [
      "Baseline mean absolute error: 3.8007121086120605\n"
     ]
    }
   ],
   "source": [
    "test_results = {}\n",
    "_, test_results['fc_model'] = fc_model.evaluate(test_features, test_G3_targets, verbose=0)\n",
    "\n",
    "print('Baseline mean absolute error:', test_results['fc_model'])\n",
    "\n",
    "#_, keras_file = tempfile.mkstemp('.h5')\n",
    "#tf.keras.models.save_model(fc_model, keras_file, include_optimizer=False)\n",
    "#print('Saved baseline model to:', keras_file)"
   ]
  },
  {
   "cell_type": "code",
   "execution_count": 60,
   "metadata": {},
   "outputs": [],
   "source": [
    "import tensorflow_model_optimization as tfmot\n",
    "prune_low_magnitude = tfmot.sparsity.keras.prune_low_magnitude"
   ]
  },
  {
   "cell_type": "code",
   "execution_count": 61,
   "metadata": {},
   "outputs": [],
   "source": [
    "# Compute end step to finish pruning after 2 epochs.\n",
    "batch_size = 32\n",
    "epochs = 8\n",
    "validation_split = 0.1 # 10% of training set will be used for validation set.\n",
    "\n",
    "num_features = train_features.shape[0] * (1 - validation_split)\n",
    "end_step = np.ceil(num_features / batch_size).astype(np.int32) * epochs"
   ]
  },
  {
   "cell_type": "code",
   "execution_count": 62,
   "metadata": {},
   "outputs": [],
   "source": [
    "# Define model for pruning.\n",
    "pruning_params = {\n",
    "    'pruning_schedule':\n",
    "    tfmot.sparsity.keras.PolynomialDecay(initial_sparsity=0.50,\n",
    "                                         final_sparsity=0.80,\n",
    "                                         begin_step=0,\n",
    "                                         end_step=end_step)\n",
    "}\n",
    "\n",
    "model_for_pruning = prune_low_magnitude(fc_model, **pruning_params)"
   ]
  },
  {
   "cell_type": "code",
   "execution_count": 63,
   "metadata": {},
   "outputs": [
    {
     "name": "stdout",
     "output_type": "stream",
     "text": [
      "Model: \"sequential\"\n",
      "_________________________________________________________________\n",
      "Layer (type)                 Output Shape              Param #   \n",
      "=================================================================\n",
      "prune_low_magnitude_dense (P (None, 32)                2914      \n",
      "_________________________________________________________________\n",
      "prune_low_magnitude_dense_1  (None, 16)                1042      \n",
      "_________________________________________________________________\n",
      "prune_low_magnitude_dense_2  (None, 8)                 266       \n",
      "_________________________________________________________________\n",
      "prune_low_magnitude_dense_3  (None, 1)                 19        \n",
      "=================================================================\n",
      "Total params: 4,241\n",
      "Trainable params: 2,145\n",
      "Non-trainable params: 2,096\n",
      "_________________________________________________________________\n"
     ]
    }
   ],
   "source": [
    "# `prune_low_magnitude` requires a recompile.\n",
    "model_for_pruning.compile(optimizer=tf.keras.optimizers.Adam(0.001),\n",
    "              loss='mean_absolute_error',\n",
    "              metrics=[tf.keras.metrics.MeanAbsoluteError()])\n",
    "\n",
    "model_for_pruning.summary()"
   ]
  },
  {
   "cell_type": "code",
   "execution_count": 64,
   "metadata": {},
   "outputs": [
    {
     "name": "stdout",
     "output_type": "stream",
     "text": [
      "Epoch 1/8\n",
      "2/9 [=====>........................] - ETA: 8s - loss: 1.0782 - mean_absolute_error: 1.0782WARNING:tensorflow:Callbacks method `on_train_batch_begin` is slow compared to the batch time (batch time: 0.0027s vs `on_train_batch_begin` time: 0.0081s). Check your callbacks.\n"
     ]
    },
    {
     "name": "stderr",
     "output_type": "stream",
     "text": [
      "WARNING:tensorflow:Callbacks method `on_train_batch_begin` is slow compared to the batch time (batch time: 0.0027s vs `on_train_batch_begin` time: 0.0081s). Check your callbacks.\n"
     ]
    },
    {
     "name": "stdout",
     "output_type": "stream",
     "text": [
      "WARNING:tensorflow:Callbacks method `on_train_batch_end` is slow compared to the batch time (batch time: 0.0027s vs `on_train_batch_end` time: 2.4070s). Check your callbacks.\n"
     ]
    },
    {
     "name": "stderr",
     "output_type": "stream",
     "text": [
      "WARNING:tensorflow:Callbacks method `on_train_batch_end` is slow compared to the batch time (batch time: 0.0027s vs `on_train_batch_end` time: 2.4070s). Check your callbacks.\n"
     ]
    },
    {
     "name": "stdout",
     "output_type": "stream",
     "text": [
      "9/9 [==============================] - 3s 315ms/step - loss: 1.0374 - mean_absolute_error: 1.0374 - val_loss: 3.6414 - val_mean_absolute_error: 3.6414\n",
      "Epoch 2/8\n",
      "9/9 [==============================] - 0s 7ms/step - loss: 0.9807 - mean_absolute_error: 0.9807 - val_loss: 3.6298 - val_mean_absolute_error: 3.6298\n",
      "Epoch 3/8\n",
      "9/9 [==============================] - 0s 7ms/step - loss: 0.9494 - mean_absolute_error: 0.9494 - val_loss: 3.6124 - val_mean_absolute_error: 3.6124\n",
      "Epoch 4/8\n",
      "9/9 [==============================] - 0s 7ms/step - loss: 0.9324 - mean_absolute_error: 0.9324 - val_loss: 3.5982 - val_mean_absolute_error: 3.5982\n",
      "Epoch 5/8\n",
      "9/9 [==============================] - 0s 7ms/step - loss: 0.9393 - mean_absolute_error: 0.9393 - val_loss: 3.6269 - val_mean_absolute_error: 3.6269\n",
      "Epoch 6/8\n",
      "9/9 [==============================] - 0s 7ms/step - loss: 0.9207 - mean_absolute_error: 0.9207 - val_loss: 3.6194 - val_mean_absolute_error: 3.6194\n",
      "Epoch 7/8\n",
      "9/9 [==============================] - 0s 7ms/step - loss: 0.9047 - mean_absolute_error: 0.9047 - val_loss: 3.6240 - val_mean_absolute_error: 3.6240\n",
      "Epoch 8/8\n",
      "9/9 [==============================] - 0s 7ms/step - loss: 0.8897 - mean_absolute_error: 0.8897 - val_loss: 3.5882 - val_mean_absolute_error: 3.5882\n"
     ]
    },
    {
     "data": {
      "text/plain": [
       "<tensorflow.python.keras.callbacks.History at 0x17c9c587390>"
      ]
     },
     "execution_count": 64,
     "metadata": {},
     "output_type": "execute_result"
    }
   ],
   "source": [
    "# Training and evaluate the model against baseline\n",
    "logdir = tempfile.mkdtemp()\n",
    "\n",
    "callbacks = [\n",
    "  tfmot.sparsity.keras.UpdatePruningStep(),\n",
    "  tfmot.sparsity.keras.PruningSummaries(log_dir=logdir),\n",
    "]\n",
    "\n",
    "model_for_pruning.fit(train_features, train_G3_targets,\n",
    "                  batch_size=batch_size, epochs=epochs, validation_split=validation_split,\n",
    "                  callbacks=callbacks)"
   ]
  },
  {
   "cell_type": "code",
   "execution_count": 65,
   "metadata": {},
   "outputs": [
    {
     "name": "stdout",
     "output_type": "stream",
     "text": [
      "3/3 [==============================] - 0s 2ms/step - loss: 3.7642 - mean_absolute_error: 3.7642\n",
      "Baseline mean absolute error: 3.8007121086120605\n",
      "Pruned mean absolute error: 3.7642366886138916\n"
     ]
    }
   ],
   "source": [
    "_, test_results['pruned_model'] = model_for_pruning.evaluate(\n",
    "   test_features, test_G3_targets, verbose=1)\n",
    "\n",
    "print('Baseline mean absolute error:', test_results['fc_model']) \n",
    "print('Pruned mean absolute error:', test_results['pruned_model'])"
   ]
  },
  {
   "cell_type": "code",
   "execution_count": 14,
   "metadata": {},
   "outputs": [
    {
     "name": "stdout",
     "output_type": "stream",
     "text": [
      "Saved pruned Keras model to: C:\\Users\\z0042fkb\\AppData\\Local\\Temp\\tmpoxz5ghbm.h5\n"
     ]
    }
   ],
   "source": [
    "model_for_export = tfmot.sparsity.keras.strip_pruning(model_for_pruning)\n",
    "\n",
    "_, pruned_keras_file = tempfile.mkstemp('.h5')\n",
    "tf.keras.models.save_model(model_for_export,\n",
    "                           pruned_keras_file,\n",
    "                           include_optimizer=False)\n",
    "print('Saved pruned Keras model to:', pruned_keras_file)"
   ]
  },
  {
   "cell_type": "code",
   "execution_count": 15,
   "metadata": {},
   "outputs": [
    {
     "name": "stdout",
     "output_type": "stream",
     "text": [
      "WARNING:tensorflow:From C:\\Program Files (x86)\\Microsoft Visual Studio\\Shared\\Anaconda3_64\\lib\\site-packages\\tensorflow\\python\\training\\tracking\\tracking.py:111: Model.state_updates (from tensorflow.python.keras.engine.training) is deprecated and will be removed in a future version.\n",
      "Instructions for updating:\n",
      "This property should not be used in TensorFlow 2.0, as updates are applied automatically.\n",
      "WARNING:tensorflow:From C:\\Program Files (x86)\\Microsoft Visual Studio\\Shared\\Anaconda3_64\\lib\\site-packages\\tensorflow\\python\\training\\tracking\\tracking.py:111: Layer.updates (from tensorflow.python.keras.engine.base_layer) is deprecated and will be removed in a future version.\n",
      "Instructions for updating:\n",
      "This property should not be used in TensorFlow 2.0, as updates are applied automatically.\n",
      "INFO:tensorflow:Assets written to: C:\\Users\\z0042fkb\\AppData\\Local\\Temp\\tmpk_2tfhrs\\assets\n",
      "Saved pruned TFLite model to: C:\\Users\\z0042fkb\\AppData\\Local\\Temp\\tmpz03bcosp.tflite\n"
     ]
    }
   ],
   "source": [
    "converter = tf.lite.TFLiteConverter.from_keras_model(model_for_export)\n",
    "pruned_tflite_model = converter.convert()\n",
    "\n",
    "_, pruned_tflite_file = tempfile.mkstemp('.tflite')\n",
    "\n",
    "with open(pruned_tflite_file, 'wb') as f:\n",
    "  f.write(pruned_tflite_model)\n",
    "\n",
    "print('Saved pruned TFLite model to:', pruned_tflite_file)"
   ]
  },
  {
   "cell_type": "code",
   "execution_count": 16,
   "metadata": {},
   "outputs": [],
   "source": [
    "def get_gzipped_model_size(file):\n",
    "  # Returns size of gzipped model, in bytes.\n",
    "  import os\n",
    "  import zipfile\n",
    "\n",
    "  _, zipped_file = tempfile.mkstemp('.zip')\n",
    "  with zipfile.ZipFile(zipped_file, 'w', compression=zipfile.ZIP_DEFLATED) as f:\n",
    "    f.write(file)\n",
    "\n",
    "  return os.path.getsize(zipped_file)"
   ]
  },
  {
   "cell_type": "code",
   "execution_count": 17,
   "metadata": {},
   "outputs": [
    {
     "name": "stdout",
     "output_type": "stream",
     "text": [
      "Size of gzipped baseline Keras model: 9886.00 bytes\n",
      "Size of gzipped pruned Keras model: 6823.00 bytes\n",
      "Size of gzipped pruned TFlite model: 5941.00 bytes\n"
     ]
    }
   ],
   "source": [
    "print(\"Size of gzipped baseline Keras model: %.2f bytes\" % (get_gzipped_model_size(keras_file)))\n",
    "print(\"Size of gzipped pruned Keras model: %.2f bytes\" % (get_gzipped_model_size(pruned_keras_file)))\n",
    "print(\"Size of gzipped pruned TFlite model: %.2f bytes\" % (get_gzipped_model_size(pruned_tflite_file)))"
   ]
  },
  {
   "cell_type": "code",
   "execution_count": 39,
   "metadata": {},
   "outputs": [
    {
     "data": {
      "text/plain": [
       "ERROR: Failed to launch TensorBoard (exited with 0).\n",
       "Contents of stderr:\n",
       "2021-04-27 17:50:53.881608: W tensorflow/stream_executor/platform/default/dso_loader.cc:59] Could not load dynamic library 'cudart64_101.dll'; dlerror: cudart64_101.dll not found\n",
       "2021-04-27 17:50:53.890311: I tensorflow/stream_executor/cuda/cudart_stub.cc:29] Ignore above cudart dlerror if you do not have a GPU set up on your machine.\n",
       "Logged out of uploader."
      ]
     },
     "metadata": {},
     "output_type": "display_data"
    }
   ],
   "source": [
    "#!pip install -U tensorboard\n",
    "#%load_ext tensorboard\n",
    "#%tensorboard --logdir={logdir}\n",
    "#print(logdir)\n",
    "#%tensorboard dev upload --logdir 'C:\\\\Users\\\\z0042fkb\\\\AppData\\\\Local\\\\Temp\\\\tmppg6etlnp'\n",
    "#%tensorboard dev auth revoke"
   ]
  },
  {
   "cell_type": "code",
   "execution_count": null,
   "metadata": {},
   "outputs": [],
   "source": []
  }
 ],
 "metadata": {
  "kernelspec": {
   "display_name": "Python 3",
   "language": "python",
   "name": "python3"
  },
  "language_info": {
   "codemirror_mode": {
    "name": "ipython",
    "version": 3
   },
   "file_extension": ".py",
   "mimetype": "text/x-python",
   "name": "python",
   "nbconvert_exporter": "python",
   "pygments_lexer": "ipython3",
   "version": "3.6.5"
  }
 },
 "nbformat": 4,
 "nbformat_minor": 2
}
